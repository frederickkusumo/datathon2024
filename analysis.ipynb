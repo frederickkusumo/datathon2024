{
 "cells": [
  {
   "cell_type": "code",
   "execution_count": 1,
   "metadata": {},
   "outputs": [],
   "source": [
    "import pandas as pd\n",
    "import matplotlib.pyplot as plt\n",
    "import seaborn as sns"
   ]
  },
  {
   "cell_type": "code",
   "execution_count": 2,
   "metadata": {},
   "outputs": [
    {
     "data": {
      "text/html": [
       "<div>\n",
       "<style scoped>\n",
       "    .dataframe tbody tr th:only-of-type {\n",
       "        vertical-align: middle;\n",
       "    }\n",
       "\n",
       "    .dataframe tbody tr th {\n",
       "        vertical-align: top;\n",
       "    }\n",
       "\n",
       "    .dataframe thead th {\n",
       "        text-align: right;\n",
       "    }\n",
       "</style>\n",
       "<table border=\"1\" class=\"dataframe\">\n",
       "  <thead>\n",
       "    <tr style=\"text-align: right;\">\n",
       "      <th></th>\n",
       "      <th>Facility.Id</th>\n",
       "      <th>FRS.Id</th>\n",
       "      <th>Facility.Name</th>\n",
       "      <th>City</th>\n",
       "      <th>State</th>\n",
       "      <th>Primary.NAICS.Code</th>\n",
       "      <th>Year</th>\n",
       "      <th>Industry.Type</th>\n",
       "      <th>Sector</th>\n",
       "      <th>Unit.Name</th>\n",
       "      <th>Fuel.Type</th>\n",
       "      <th>Specific.Fuel.Type</th>\n",
       "      <th>Other.Fuel.Name</th>\n",
       "      <th>Blend.Fuel.Name</th>\n",
       "      <th>Methane.emissions</th>\n",
       "      <th>Nitrous.Oxide.emissions</th>\n",
       "    </tr>\n",
       "  </thead>\n",
       "  <tbody>\n",
       "    <tr>\n",
       "      <th>0</th>\n",
       "      <td>1000112</td>\n",
       "      <td>1.100440e+11</td>\n",
       "      <td>23rd and 3rd</td>\n",
       "      <td>Brooklyn</td>\n",
       "      <td>NY</td>\n",
       "      <td>221112</td>\n",
       "      <td>2022</td>\n",
       "      <td>C,D</td>\n",
       "      <td>Power Plants</td>\n",
       "      <td>2301</td>\n",
       "      <td>Natural Gas</td>\n",
       "      <td>Natural Gas (Weighted U.S. Average)</td>\n",
       "      <td>NaN</td>\n",
       "      <td>NaN</td>\n",
       "      <td>16.50</td>\n",
       "      <td>20.860</td>\n",
       "    </tr>\n",
       "    <tr>\n",
       "      <th>1</th>\n",
       "      <td>1000112</td>\n",
       "      <td>1.100440e+11</td>\n",
       "      <td>23rd and 3rd</td>\n",
       "      <td>Brooklyn</td>\n",
       "      <td>NY</td>\n",
       "      <td>221112</td>\n",
       "      <td>2022</td>\n",
       "      <td>C,D</td>\n",
       "      <td>Power Plants</td>\n",
       "      <td>2302</td>\n",
       "      <td>Natural Gas</td>\n",
       "      <td>Natural Gas (Weighted U.S. Average)</td>\n",
       "      <td>NaN</td>\n",
       "      <td>NaN</td>\n",
       "      <td>15.00</td>\n",
       "      <td>17.880</td>\n",
       "    </tr>\n",
       "    <tr>\n",
       "      <th>2</th>\n",
       "      <td>1000112</td>\n",
       "      <td>1.100440e+11</td>\n",
       "      <td>23rd and 3rd</td>\n",
       "      <td>Brooklyn</td>\n",
       "      <td>NY</td>\n",
       "      <td>221112</td>\n",
       "      <td>2022</td>\n",
       "      <td>C,D</td>\n",
       "      <td>Power Plants</td>\n",
       "      <td>Heatec1</td>\n",
       "      <td>Natural Gas</td>\n",
       "      <td>Natural Gas (Weighted U.S. Average)</td>\n",
       "      <td>NaN</td>\n",
       "      <td>NaN</td>\n",
       "      <td>0.00</td>\n",
       "      <td>0.000</td>\n",
       "    </tr>\n",
       "    <tr>\n",
       "      <th>3</th>\n",
       "      <td>1000112</td>\n",
       "      <td>1.100440e+11</td>\n",
       "      <td>23rd and 3rd</td>\n",
       "      <td>Brooklyn</td>\n",
       "      <td>NY</td>\n",
       "      <td>221112</td>\n",
       "      <td>2022</td>\n",
       "      <td>C,D</td>\n",
       "      <td>Power Plants</td>\n",
       "      <td>Heatec2</td>\n",
       "      <td>Natural Gas</td>\n",
       "      <td>Natural Gas (Weighted U.S. Average)</td>\n",
       "      <td>NaN</td>\n",
       "      <td>NaN</td>\n",
       "      <td>0.00</td>\n",
       "      <td>0.000</td>\n",
       "    </tr>\n",
       "    <tr>\n",
       "      <th>4</th>\n",
       "      <td>1000112</td>\n",
       "      <td>1.100440e+11</td>\n",
       "      <td>23rd and 3rd</td>\n",
       "      <td>Brooklyn</td>\n",
       "      <td>NY</td>\n",
       "      <td>221112</td>\n",
       "      <td>2021</td>\n",
       "      <td>C,D</td>\n",
       "      <td>Power Plants</td>\n",
       "      <td>2301</td>\n",
       "      <td>Natural Gas</td>\n",
       "      <td>Natural Gas (Weighted U.S. Average)</td>\n",
       "      <td>NaN</td>\n",
       "      <td>NaN</td>\n",
       "      <td>11.00</td>\n",
       "      <td>11.920</td>\n",
       "    </tr>\n",
       "    <tr>\n",
       "      <th>...</th>\n",
       "      <td>...</td>\n",
       "      <td>...</td>\n",
       "      <td>...</td>\n",
       "      <td>...</td>\n",
       "      <td>...</td>\n",
       "      <td>...</td>\n",
       "      <td>...</td>\n",
       "      <td>...</td>\n",
       "      <td>...</td>\n",
       "      <td>...</td>\n",
       "      <td>...</td>\n",
       "      <td>...</td>\n",
       "      <td>...</td>\n",
       "      <td>...</td>\n",
       "      <td>...</td>\n",
       "      <td>...</td>\n",
       "    </tr>\n",
       "    <tr>\n",
       "      <th>271082</th>\n",
       "      <td>1003318</td>\n",
       "      <td>1.100440e+11</td>\n",
       "      <td>ZYBACH CRYOGENIC PLANT</td>\n",
       "      <td>Briscoe</td>\n",
       "      <td>TX</td>\n",
       "      <td>211111</td>\n",
       "      <td>2015</td>\n",
       "      <td>C,W</td>\n",
       "      <td>Petroleum and Natural Gas Systems</td>\n",
       "      <td>GP-Zybach</td>\n",
       "      <td>Natural Gas</td>\n",
       "      <td>Natural Gas (Weighted U.S. Average)</td>\n",
       "      <td>NaN</td>\n",
       "      <td>NaN</td>\n",
       "      <td>16.00</td>\n",
       "      <td>19.072</td>\n",
       "    </tr>\n",
       "    <tr>\n",
       "      <th>271083</th>\n",
       "      <td>1003318</td>\n",
       "      <td>1.100440e+11</td>\n",
       "      <td>ZYBACH CRYOGENIC PLANT</td>\n",
       "      <td>Briscoe</td>\n",
       "      <td>TX</td>\n",
       "      <td>211111</td>\n",
       "      <td>2014</td>\n",
       "      <td>C,W</td>\n",
       "      <td>Petroleum and Natural Gas Systems</td>\n",
       "      <td>GP-Zybach</td>\n",
       "      <td>Natural Gas</td>\n",
       "      <td>Natural Gas (Weighted U.S. Average)</td>\n",
       "      <td>NaN</td>\n",
       "      <td>NaN</td>\n",
       "      <td>15.50</td>\n",
       "      <td>18.476</td>\n",
       "    </tr>\n",
       "    <tr>\n",
       "      <th>271084</th>\n",
       "      <td>1003318</td>\n",
       "      <td>1.100440e+11</td>\n",
       "      <td>ZYBACH CRYOGENIC PLANT</td>\n",
       "      <td>Briscoe</td>\n",
       "      <td>TX</td>\n",
       "      <td>211111</td>\n",
       "      <td>2013</td>\n",
       "      <td>C,W</td>\n",
       "      <td>Petroleum and Natural Gas Systems</td>\n",
       "      <td>GP-Zybach</td>\n",
       "      <td>Natural Gas</td>\n",
       "      <td>Natural Gas (Weighted U.S. Average)</td>\n",
       "      <td>NaN</td>\n",
       "      <td>NaN</td>\n",
       "      <td>20.25</td>\n",
       "      <td>24.138</td>\n",
       "    </tr>\n",
       "    <tr>\n",
       "      <th>271085</th>\n",
       "      <td>1003318</td>\n",
       "      <td>1.100440e+11</td>\n",
       "      <td>ZYBACH CRYOGENIC PLANT</td>\n",
       "      <td>Briscoe</td>\n",
       "      <td>TX</td>\n",
       "      <td>211111</td>\n",
       "      <td>2012</td>\n",
       "      <td>C,W</td>\n",
       "      <td>Petroleum and Natural Gas Systems</td>\n",
       "      <td>GP-Zybach</td>\n",
       "      <td>Natural Gas</td>\n",
       "      <td>Natural Gas (Weighted U.S. Average)</td>\n",
       "      <td>NaN</td>\n",
       "      <td>NaN</td>\n",
       "      <td>22.00</td>\n",
       "      <td>26.224</td>\n",
       "    </tr>\n",
       "    <tr>\n",
       "      <th>271086</th>\n",
       "      <td>1003318</td>\n",
       "      <td>1.100440e+11</td>\n",
       "      <td>ZYBACH CRYOGENIC PLANT</td>\n",
       "      <td>Briscoe</td>\n",
       "      <td>TX</td>\n",
       "      <td>211111</td>\n",
       "      <td>2011</td>\n",
       "      <td>C,W</td>\n",
       "      <td>Petroleum and Natural Gas Systems</td>\n",
       "      <td>GP-Zybach</td>\n",
       "      <td>Natural Gas</td>\n",
       "      <td>Natural Gas (Weighted U.S. Average)</td>\n",
       "      <td>NaN</td>\n",
       "      <td>NaN</td>\n",
       "      <td>25.25</td>\n",
       "      <td>30.098</td>\n",
       "    </tr>\n",
       "  </tbody>\n",
       "</table>\n",
       "<p>271087 rows × 16 columns</p>\n",
       "</div>"
      ],
      "text/plain": [
       "        Facility.Id        FRS.Id           Facility.Name      City State  \\\n",
       "0           1000112  1.100440e+11            23rd and 3rd  Brooklyn    NY   \n",
       "1           1000112  1.100440e+11            23rd and 3rd  Brooklyn    NY   \n",
       "2           1000112  1.100440e+11            23rd and 3rd  Brooklyn    NY   \n",
       "3           1000112  1.100440e+11            23rd and 3rd  Brooklyn    NY   \n",
       "4           1000112  1.100440e+11            23rd and 3rd  Brooklyn    NY   \n",
       "...             ...           ...                     ...       ...   ...   \n",
       "271082      1003318  1.100440e+11  ZYBACH CRYOGENIC PLANT   Briscoe    TX   \n",
       "271083      1003318  1.100440e+11  ZYBACH CRYOGENIC PLANT   Briscoe    TX   \n",
       "271084      1003318  1.100440e+11  ZYBACH CRYOGENIC PLANT   Briscoe    TX   \n",
       "271085      1003318  1.100440e+11  ZYBACH CRYOGENIC PLANT   Briscoe    TX   \n",
       "271086      1003318  1.100440e+11  ZYBACH CRYOGENIC PLANT   Briscoe    TX   \n",
       "\n",
       "        Primary.NAICS.Code  Year Industry.Type  \\\n",
       "0                   221112  2022           C,D   \n",
       "1                   221112  2022           C,D   \n",
       "2                   221112  2022           C,D   \n",
       "3                   221112  2022           C,D   \n",
       "4                   221112  2021           C,D   \n",
       "...                    ...   ...           ...   \n",
       "271082              211111  2015           C,W   \n",
       "271083              211111  2014           C,W   \n",
       "271084              211111  2013           C,W   \n",
       "271085              211111  2012           C,W   \n",
       "271086              211111  2011           C,W   \n",
       "\n",
       "                                   Sector  Unit.Name    Fuel.Type  \\\n",
       "0                            Power Plants       2301  Natural Gas   \n",
       "1                            Power Plants       2302  Natural Gas   \n",
       "2                            Power Plants    Heatec1  Natural Gas   \n",
       "3                            Power Plants    Heatec2  Natural Gas   \n",
       "4                            Power Plants       2301  Natural Gas   \n",
       "...                                   ...        ...          ...   \n",
       "271082  Petroleum and Natural Gas Systems  GP-Zybach  Natural Gas   \n",
       "271083  Petroleum and Natural Gas Systems  GP-Zybach  Natural Gas   \n",
       "271084  Petroleum and Natural Gas Systems  GP-Zybach  Natural Gas   \n",
       "271085  Petroleum and Natural Gas Systems  GP-Zybach  Natural Gas   \n",
       "271086  Petroleum and Natural Gas Systems  GP-Zybach  Natural Gas   \n",
       "\n",
       "                         Specific.Fuel.Type Other.Fuel.Name Blend.Fuel.Name  \\\n",
       "0       Natural Gas (Weighted U.S. Average)             NaN             NaN   \n",
       "1       Natural Gas (Weighted U.S. Average)             NaN             NaN   \n",
       "2       Natural Gas (Weighted U.S. Average)             NaN             NaN   \n",
       "3       Natural Gas (Weighted U.S. Average)             NaN             NaN   \n",
       "4       Natural Gas (Weighted U.S. Average)             NaN             NaN   \n",
       "...                                     ...             ...             ...   \n",
       "271082  Natural Gas (Weighted U.S. Average)             NaN             NaN   \n",
       "271083  Natural Gas (Weighted U.S. Average)             NaN             NaN   \n",
       "271084  Natural Gas (Weighted U.S. Average)             NaN             NaN   \n",
       "271085  Natural Gas (Weighted U.S. Average)             NaN             NaN   \n",
       "271086  Natural Gas (Weighted U.S. Average)             NaN             NaN   \n",
       "\n",
       "        Methane.emissions  Nitrous.Oxide.emissions  \n",
       "0                   16.50                   20.860  \n",
       "1                   15.00                   17.880  \n",
       "2                    0.00                    0.000  \n",
       "3                    0.00                    0.000  \n",
       "4                   11.00                   11.920  \n",
       "...                   ...                      ...  \n",
       "271082              16.00                   19.072  \n",
       "271083              15.50                   18.476  \n",
       "271084              20.25                   24.138  \n",
       "271085              22.00                   26.224  \n",
       "271086              25.25                   30.098  \n",
       "\n",
       "[271087 rows x 16 columns]"
      ]
     },
     "execution_count": 2,
     "metadata": {},
     "output_type": "execute_result"
    }
   ],
   "source": [
    "fuel = pd.read_csv('Fuel.csv')\n",
    "fuel"
   ]
  },
  {
   "cell_type": "code",
   "execution_count": 16,
   "metadata": {},
   "outputs": [],
   "source": [
    "new = fuel[fuel['Year'] > 2010]"
   ]
  },
  {
   "cell_type": "code",
   "execution_count": 17,
   "metadata": {},
   "outputs": [
    {
     "data": {
      "text/plain": [
       "<Axes: xlabel='Year'>"
      ]
     },
     "execution_count": 17,
     "metadata": {},
     "output_type": "execute_result"
    },
    {
     "data": {
      "image/png": "[encoded data removed]",
      "text/plain": [
       "<Figure size 640x480 with 1 Axes>"
      ]
     },
     "metadata": {},
     "output_type": "display_data"
    }
   ],
   "source": [
    "new.groupby('Year')['Methane.emissions'].mean().plot(kind='bar')"
   ]
  },
  {
   "cell_type": "code",
   "execution_count": 15,
   "metadata": {},
   "outputs": [
    {
     "data": {
      "text/plain": [
       "<Axes: xlabel='Year'>"
      ]
     },
     "execution_count": 15,
     "metadata": {},
     "output_type": "execute_result"
    },
    {
     "data": {
      "image/png": "[encoded data removed]",
      "text/plain": [
       "<Figure size 640x480 with 1 Axes>"
      ]
     },
     "metadata": {},
     "output_type": "display_data"
    }
   ],
   "source": [
    "fuel.groupby('Year')['Methane.emissions'].mean().plot(kind='bar')"
   ]
  },
  {
   "cell_type": "code",
   "execution_count": 8,
   "metadata": {},
   "outputs": [
    {
     "data": {
      "text/plain": [
       "<Axes: xlabel='Year'>"
      ]
     },
     "execution_count": 8,
     "metadata": {},
     "output_type": "execute_result"
    },
    {
     "data": {
      "image/png": "[encoded data removed]",
      "text/plain": [
       "<Figure size 640x480 with 1 Axes>"
      ]
     },
     "metadata": {},
     "output_type": "display_data"
    }
   ],
   "source": [
    "fuel.groupby('Year')['Nitrous.Oxide.emissions'].sum().plot(kind='bar')"
   ]
  },
  {
   "cell_type": "code",
   "execution_count": 24,
   "metadata": {},
   "outputs": [
    {
     "data": {
      "text/plain": [
       "Fuel.Type\n",
       "Natural Gas           149462\n",
       "Petroleum Products     74078\n",
       "Other                  33362\n",
       "Coal                   14141\n",
       "Fuel Gas                  17\n",
       "Natural Gas                2\n",
       "Biomass                    2\n",
       "Solid Byproducts           1\n",
       "Name: count, dtype: int64"
      ]
     },
     "execution_count": 24,
     "metadata": {},
     "output_type": "execute_result"
    }
   ],
   "source": [
    "fuel['Fuel.Type'].value_counts()"
   ]
  },
  {
   "cell_type": "code",
   "execution_count": 28,
   "metadata": {},
   "outputs": [
    {
     "data": {
      "text/plain": [
       "Sector\n",
       "Power Plants                                                                                                     89524\n",
       "Other                                                                                                            34714\n",
       "Petroleum and Natural Gas Systems                                                                                30127\n",
       "Waste                                                                                                            27669\n",
       "Chemicals                                                                                                        12328\n",
       "                                                                                                                 ...  \n",
       "Petroleum Product Suppliers, Power Plants, Refineries, Suppliers of CO2                                              8\n",
       "Chemicals, Power Plants, Refineries, Suppliers of CO2                                                                5\n",
       "Natural Gas and Natural Gas Liquids Suppliers, Other                                                                 4\n",
       "Natural Gas and Natural Gas Liquids Suppliers, Petroleum Product Suppliers, Petroleum and Natural Gas Systems        2\n",
       "Injection of CO2, Other, Suppliers of CO2                                                                            1\n",
       "Name: count, Length: 69, dtype: int64"
      ]
     },
     "execution_count": 28,
     "metadata": {},
     "output_type": "execute_result"
    }
   ],
   "source": [
    "fuel['Sector'].value_counts()  "
   ]
  },
  {
   "cell_type": "code",
   "execution_count": 9,
   "metadata": {},
   "outputs": [
    {
     "data": {
      "text/plain": [
       "Specific.Fuel.Type\n",
       "Natural Gas (Weighted U.S. Average)    149448\n",
       "Distillate Fuel Oil No. 2               43941\n",
       "Fuel Gas                                18153\n",
       "Propane                                  8426\n",
       "Bituminous                               7383\n",
       "                                        ...  \n",
       "Petrochemical Feedstocks                    4\n",
       "Crude Oil                                   3\n",
       "Aviation Gasoline                           3\n",
       "Mixed (Industrial coking)                   2\n",
       "Butylene                                    1\n",
       "Name: count, Length: 62, dtype: int64"
      ]
     },
     "execution_count": 9,
     "metadata": {},
     "output_type": "execute_result"
    }
   ],
   "source": [
    "fuel['Specific.Fuel.Type'].value_counts()"
   ]
  },
  {
   "cell_type": "code",
   "execution_count": 50,
   "metadata": {},
   "outputs": [
    {
     "data": {
      "text/plain": [
       "Specific.Fuel.Type\n",
       "Fuel Gas                               18153\n",
       "Landfill Gas                            2510\n",
       "Wood and Wood Residuals (dry basis)     2176\n",
       "spent liquor solids                     1980\n",
       "Municipal Solid Waste                   1847\n",
       "Other Biomass Gases                     1422\n",
       "Blast Furnace Gas                       1096\n",
       "Biogas (Captured methane)                927\n",
       "Tires                                    741\n",
       "Coke Oven Gas                            727\n",
       "Wood and Wood Residuals                  609\n",
       "Solid Byproducts                         348\n",
       "Agricultural Byproducts                  293\n",
       "Biodiesel (100%)                         128\n",
       "Rendered Animal Fat                       79\n",
       "Plastics                                  64\n",
       "Vegetable Oil                             56\n",
       "Biodiesel                                 31\n",
       "Ethanol                                   24\n",
       "Mixed (Industrial sector)                  2\n",
       "Anthracite                                 1\n",
       "Name: count, dtype: int64"
      ]
     },
     "execution_count": 50,
     "metadata": {},
     "output_type": "execute_result"
    }
   ],
   "source": [
    "fuel[fuel['Fuel.Type'] == 'Other']['Specific.Fuel.Type'].value_counts()"
   ]
  },
  {
   "cell_type": "code",
   "execution_count": 58,
   "metadata": {},
   "outputs": [
    {
     "data": {
      "text/plain": [
       "0.0636352736646484"
      ]
     },
     "execution_count": 58,
     "metadata": {},
     "output_type": "execute_result"
    }
   ],
   "source": [
    "(927 + 609 + 293 + 128 + 79 + 56 + 31) / len(fuel[fuel['Fuel.Type'] == 'Other']['Specific.Fuel.Type'])"
   ]
  },
  {
   "cell_type": "code",
   "execution_count": 57,
   "metadata": {},
   "outputs": [
    {
     "data": {
      "text/plain": [
       "0.7831434189024189"
      ]
     },
     "execution_count": 57,
     "metadata": {},
     "output_type": "execute_result"
    }
   ],
   "source": [
    "(927 + 609 + 293 + 128 + 79 + 56 + 31) / len(fuel) * 100"
   ]
  },
  {
   "cell_type": "code",
   "execution_count": 59,
   "metadata": {},
   "outputs": [],
   "source": [
    "fuel['renewable'] = fuel['Specific.Fuel.Type'].apply(lambda x: 'Renewable' if x == 'Biogas (Captured methane)' or x == 'Wood and Wood Residuals' or x == 'Agricultural Byproducts' or x == 'Biodiesel (100%)' or x == 'Rendered Animal Fat' or x == 'Vegetable Oil' or x == 'Biodiesel' else 'Non-Renewable')"
   ]
  },
  {
   "cell_type": "code",
   "execution_count": 76,
   "metadata": {},
   "outputs": [
    {
     "data": {
      "text/plain": [
       "renewable\n",
       "Non-Renewable    268964\n",
       "Renewable          2123\n",
       "Name: count, dtype: int64"
      ]
     },
     "execution_count": 76,
     "metadata": {},
     "output_type": "execute_result"
    }
   ],
   "source": [
    "fuel.renewable.value_counts()"
   ]
  },
  {
   "cell_type": "code",
   "execution_count": 75,
   "metadata": {},
   "outputs": [
    {
     "data": {
      "text/plain": [
       "(-1.25, 1.25, -1.25, 1.25)"
      ]
     },
     "execution_count": 75,
     "metadata": {},
     "output_type": "execute_result"
    },
    {
     "data": {
      "image/png": "[encoded data removed]",
      "text/plain": [
       "<Figure size 600x600 with 1 Axes>"
      ]
     },
     "metadata": {},
     "output_type": "display_data"
    }
   ],
   "source": [
    "fuel.renewable.value_counts().plot.pie(autopct='%1.1f%%', figsize=(6,6))\n",
    "plt.title('Renewable vs Non-Renewable Fuel Types')\n",
    "plt.axis('off')"
   ]
  },
  {
   "cell_type": "code",
   "execution_count": 26,
   "metadata": {},
   "outputs": [
    {
     "data": {
      "text/plain": [
       "<Axes: xlabel='Fuel.Type'>"
      ]
     },
     "execution_count": 26,
     "metadata": {},
     "output_type": "execute_result"
    },
    {
     "data": {
      "image/png": "[encoded data removed]",
      "text/plain": [
       "<Figure size 640x480 with 1 Axes>"
      ]
     },
     "metadata": {},
     "output_type": "display_data"
    }
   ],
   "source": [
    "fuel.groupby('Fuel.Type')['Methane.emissions'].sum().nlargest(5).plot(kind='bar')"
   ]
  },
  {
   "cell_type": "code",
   "execution_count": 46,
   "metadata": {},
   "outputs": [
    {
     "data": {
      "text/plain": [
       "62"
      ]
     },
     "execution_count": 46,
     "metadata": {},
     "output_type": "execute_result"
    }
   ],
   "source": [
    "fuel['Specific.Fuel.Type'].nunique()"
   ]
  },
  {
   "cell_type": "code",
   "execution_count": 47,
   "metadata": {},
   "outputs": [
    {
     "data": {
      "text/plain": [
       "array(['Natural Gas (Weighted U.S. Average)', 'Distillate Fuel Oil No. 2',\n",
       "       'Residual Fuel Oil No. 6', 'Distillate Fuel Oil No. 1',\n",
       "       'Motor Gasoline', 'Propane', 'Liquefied petroleum gases (LPG)',\n",
       "       'Wood and Wood Residuals (dry basis)', 'Wood and Wood Residuals',\n",
       "       'Propane Gas', 'Kerosene', 'Distillate Fuel Oil No. 4',\n",
       "       'Bituminous', 'Subbituminous', 'Coke Oven Gas',\n",
       "       'Other Biomass Gases', 'Biogas (Captured methane)', 'Landfill Gas',\n",
       "       'Mixed (Industrial sector)', 'Agricultural Byproducts',\n",
       "       'Solid Byproducts', 'Tires', 'Used Oil', 'Natural Gasoline',\n",
       "       'Other Oil (>401 deg F)', 'Petroleum Coke', 'Coke',\n",
       "       'spent liquor solids', 'Fuel Gas', 'Blast Furnace Gas',\n",
       "       'Mixed (Electric Power sector)', 'Anthracite', 'Coal Coke',\n",
       "       'Kerosene-Type Jet Fuel', 'Municipal Solid Waste', 'Lignite',\n",
       "       'Vegetable Oil', 'Isobutane', nan, 'Biodiesel (100%)', 'Biodiesel',\n",
       "       'Lubricants', 'Naphtha (<401 deg F)', 'Ethylene', 'Pentanes Plus',\n",
       "       'Propylene', 'Plastics', 'Residual Fuel Oil No. 5',\n",
       "       'Rendered Animal Fat', 'Unfinished Oils',\n",
       "       'Mixed (Commercial sector)', 'Heavy Gas Oils', 'Ethanol', 'Butane',\n",
       "       'Ethane', 'Special Naphtha', 'Crude Oil', 'Asphalt and Road Oil',\n",
       "       'Petrochemical Feedstocks', 'Ethanol (100%)', 'Butylene',\n",
       "       'Mixed (Industrial coking)', 'Aviation Gasoline'], dtype=object)"
      ]
     },
     "execution_count": 47,
     "metadata": {},
     "output_type": "execute_result"
    }
   ],
   "source": [
    "fuel['Specific.Fuel.Type'].unique()"
   ]
  },
  {
   "cell_type": "code",
   "execution_count": 41,
   "metadata": {},
   "outputs": [
    {
     "data": {
      "text/plain": [
       "Specific.Fuel.Type\n",
       "Natural Gas (Weighted U.S. Average)    149448\n",
       "Distillate Fuel Oil No. 2               43941\n",
       "Fuel Gas                                18153\n",
       "Propane                                  8426\n",
       "Bituminous                               7383\n",
       "                                        ...  \n",
       "Petrochemical Feedstocks                    4\n",
       "Crude Oil                                   3\n",
       "Aviation Gasoline                           3\n",
       "Mixed (Industrial coking)                   2\n",
       "Butylene                                    1\n",
       "Name: count, Length: 62, dtype: int64"
      ]
     },
     "execution_count": 41,
     "metadata": {},
     "output_type": "execute_result"
    }
   ],
   "source": [
    "fuel['Specific.Fuel.Type'].value_counts()   "
   ]
  },
  {
   "cell_type": "code",
   "execution_count": 23,
   "metadata": {},
   "outputs": [
    {
     "data": {
      "text/plain": [
       "<Axes: xlabel='Specific.Fuel.Type'>"
      ]
     },
     "execution_count": 23,
     "metadata": {},
     "output_type": "execute_result"
    },
    {
     "data": {
      "image/png": "[encoded data removed]",
      "text/plain": [
       "<Figure size 640x480 with 1 Axes>"
      ]
     },
     "metadata": {},
     "output_type": "display_data"
    }
   ],
   "source": [
    "fuel.groupby('Specific.Fuel.Type')['Methane.emissions'].sum().nlargest(10).plot(kind='bar')"
   ]
  },
  {
   "cell_type": "code",
   "execution_count": 27,
   "metadata": {},
   "outputs": [
    {
     "data": {
      "text/plain": [
       "Industry.Type\n",
       "C                68119\n",
       "C,D              60148\n",
       "C,W              24773\n",
       "C,HH             24591\n",
       "D                17679\n",
       "                 ...  \n",
       "C,II,TT              3\n",
       "D,NN,W               2\n",
       "D,PP                 2\n",
       "C,V,Z                2\n",
       "C,PP,RR (RPT)        1\n",
       "Name: count, Length: 138, dtype: int64"
      ]
     },
     "execution_count": 27,
     "metadata": {},
     "output_type": "execute_result"
    }
   ],
   "source": [
    "fuel['Industry.Type'].value_counts()"
   ]
  },
  {
   "cell_type": "code",
   "execution_count": 4,
   "metadata": {},
   "outputs": [
    {
     "data": {
      "text/html": [
       "<div>\n",
       "<style scoped>\n",
       "    .dataframe tbody tr th:only-of-type {\n",
       "        vertical-align: middle;\n",
       "    }\n",
       "\n",
       "    .dataframe tbody tr th {\n",
       "        vertical-align: top;\n",
       "    }\n",
       "\n",
       "    .dataframe thead th {\n",
       "        text-align: right;\n",
       "    }\n",
       "</style>\n",
       "<table border=\"1\" class=\"dataframe\">\n",
       "  <thead>\n",
       "    <tr style=\"text-align: right;\">\n",
       "      <th></th>\n",
       "      <th>Subpart Letter</th>\n",
       "      <th>Name of industry</th>\n",
       "      <th>Facility Type</th>\n",
       "    </tr>\n",
       "  </thead>\n",
       "  <tbody>\n",
       "    <tr>\n",
       "      <th>0</th>\n",
       "      <td>C</td>\n",
       "      <td>Stationary Combustion</td>\n",
       "      <td>Direct Emitter</td>\n",
       "    </tr>\n",
       "    <tr>\n",
       "      <th>1</th>\n",
       "      <td>D</td>\n",
       "      <td>Electricity Generation</td>\n",
       "      <td>Direct Emitter</td>\n",
       "    </tr>\n",
       "    <tr>\n",
       "      <th>2</th>\n",
       "      <td>E</td>\n",
       "      <td>Adipic Acid Production</td>\n",
       "      <td>Direct Emitter</td>\n",
       "    </tr>\n",
       "    <tr>\n",
       "      <th>3</th>\n",
       "      <td>F</td>\n",
       "      <td>Aluminum Production</td>\n",
       "      <td>Direct Emitter</td>\n",
       "    </tr>\n",
       "    <tr>\n",
       "      <th>4</th>\n",
       "      <td>G</td>\n",
       "      <td>Ammonia Manufacturing</td>\n",
       "      <td>Direct Emitter</td>\n",
       "    </tr>\n",
       "    <tr>\n",
       "      <th>5</th>\n",
       "      <td>H</td>\n",
       "      <td>Cement Production</td>\n",
       "      <td>Direct Emitter</td>\n",
       "    </tr>\n",
       "    <tr>\n",
       "      <th>6</th>\n",
       "      <td>I</td>\n",
       "      <td>Electronics Manufacture</td>\n",
       "      <td>Direct Emitter</td>\n",
       "    </tr>\n",
       "    <tr>\n",
       "      <th>7</th>\n",
       "      <td>K</td>\n",
       "      <td>Ferroalloy Production</td>\n",
       "      <td>Direct Emitter</td>\n",
       "    </tr>\n",
       "    <tr>\n",
       "      <th>8</th>\n",
       "      <td>L</td>\n",
       "      <td>Fluorinated GHG Production</td>\n",
       "      <td>Direct Emitter</td>\n",
       "    </tr>\n",
       "    <tr>\n",
       "      <th>9</th>\n",
       "      <td>N</td>\n",
       "      <td>Glass Production</td>\n",
       "      <td>Direct Emitter</td>\n",
       "    </tr>\n",
       "    <tr>\n",
       "      <th>10</th>\n",
       "      <td>O</td>\n",
       "      <td>HCFC–22 Production and HFC–23 Destruction</td>\n",
       "      <td>Direct Emitter</td>\n",
       "    </tr>\n",
       "    <tr>\n",
       "      <th>11</th>\n",
       "      <td>P</td>\n",
       "      <td>Hydrogen Production</td>\n",
       "      <td>Direct Emitter</td>\n",
       "    </tr>\n",
       "    <tr>\n",
       "      <th>12</th>\n",
       "      <td>Q</td>\n",
       "      <td>Iron and Steel Production</td>\n",
       "      <td>Direct Emitter</td>\n",
       "    </tr>\n",
       "    <tr>\n",
       "      <th>13</th>\n",
       "      <td>R</td>\n",
       "      <td>Lead Production</td>\n",
       "      <td>Direct Emitter</td>\n",
       "    </tr>\n",
       "    <tr>\n",
       "      <th>14</th>\n",
       "      <td>S</td>\n",
       "      <td>Lime Production</td>\n",
       "      <td>Direct Emitter</td>\n",
       "    </tr>\n",
       "    <tr>\n",
       "      <th>15</th>\n",
       "      <td>T</td>\n",
       "      <td>Magnesium Production</td>\n",
       "      <td>Direct Emitter</td>\n",
       "    </tr>\n",
       "    <tr>\n",
       "      <th>16</th>\n",
       "      <td>U</td>\n",
       "      <td>Miscellaneous Use of Carbonates</td>\n",
       "      <td>Direct Emitter</td>\n",
       "    </tr>\n",
       "    <tr>\n",
       "      <th>17</th>\n",
       "      <td>V</td>\n",
       "      <td>Nitric Acid Production</td>\n",
       "      <td>Direct Emitter</td>\n",
       "    </tr>\n",
       "    <tr>\n",
       "      <th>18</th>\n",
       "      <td>W</td>\n",
       "      <td>Petroleum and Natural Gas Systems</td>\n",
       "      <td>Direct Emitter</td>\n",
       "    </tr>\n",
       "    <tr>\n",
       "      <th>19</th>\n",
       "      <td>W-OFFSH</td>\n",
       "      <td>Petroleum and Natural Gas Systems – Offshore P...</td>\n",
       "      <td>Direct Emitter</td>\n",
       "    </tr>\n",
       "    <tr>\n",
       "      <th>20</th>\n",
       "      <td>W-ONSH</td>\n",
       "      <td>Petroleum and Natural Gas Systems – Onshore Pr...</td>\n",
       "      <td>Onshore Oil &amp; Gas Production</td>\n",
       "    </tr>\n",
       "    <tr>\n",
       "      <th>21</th>\n",
       "      <td>W-GB</td>\n",
       "      <td>Petroleum and Nautral Gas Systems - Gathering ...</td>\n",
       "      <td>Gathering &amp; Boosting</td>\n",
       "    </tr>\n",
       "    <tr>\n",
       "      <th>22</th>\n",
       "      <td>W-PROC</td>\n",
       "      <td>Petroleum and Natural Gas Systems – Natural Ga...</td>\n",
       "      <td>Direct Emitter</td>\n",
       "    </tr>\n",
       "    <tr>\n",
       "      <th>23</th>\n",
       "      <td>W-NGTC</td>\n",
       "      <td>Petroleum and Natural Gas Systems – Natural Ga...</td>\n",
       "      <td>Direct Emitter</td>\n",
       "    </tr>\n",
       "    <tr>\n",
       "      <th>24</th>\n",
       "      <td>W-TRANS</td>\n",
       "      <td>Petroleum and Natural Gas Systems – Transmissi...</td>\n",
       "      <td>Transmission Pipelines</td>\n",
       "    </tr>\n",
       "    <tr>\n",
       "      <th>25</th>\n",
       "      <td>W-UNSTG</td>\n",
       "      <td>Petroleum and Natural Gas Systems – Undergroun...</td>\n",
       "      <td>Direct Emitter</td>\n",
       "    </tr>\n",
       "    <tr>\n",
       "      <th>26</th>\n",
       "      <td>W-LNGSTG</td>\n",
       "      <td>Petroleum and Natural Gas Systems – Liquified ...</td>\n",
       "      <td>Direct Emitter</td>\n",
       "    </tr>\n",
       "    <tr>\n",
       "      <th>27</th>\n",
       "      <td>W-LNGIE</td>\n",
       "      <td>Petroleum and Natural Gas Systems – Liquified ...</td>\n",
       "      <td>Direct Emitter</td>\n",
       "    </tr>\n",
       "    <tr>\n",
       "      <th>28</th>\n",
       "      <td>W-LDC</td>\n",
       "      <td>Petroleum and Natural Gas Systems – Natural Ga...</td>\n",
       "      <td>LDC - Direct Emissions</td>\n",
       "    </tr>\n",
       "    <tr>\n",
       "      <th>29</th>\n",
       "      <td>X</td>\n",
       "      <td>Petrochemical Production</td>\n",
       "      <td>Direct Emitter</td>\n",
       "    </tr>\n",
       "    <tr>\n",
       "      <th>30</th>\n",
       "      <td>Y</td>\n",
       "      <td>Petroleum Refining</td>\n",
       "      <td>Direct Emitter</td>\n",
       "    </tr>\n",
       "    <tr>\n",
       "      <th>31</th>\n",
       "      <td>Z</td>\n",
       "      <td>Phosphoric Acid Production</td>\n",
       "      <td>Direct Emitter</td>\n",
       "    </tr>\n",
       "    <tr>\n",
       "      <th>32</th>\n",
       "      <td>AA</td>\n",
       "      <td>Pulp and Paper Manufacturing</td>\n",
       "      <td>Direct Emitter</td>\n",
       "    </tr>\n",
       "    <tr>\n",
       "      <th>33</th>\n",
       "      <td>BB</td>\n",
       "      <td>Silicon Carbide Production</td>\n",
       "      <td>Direct Emitter</td>\n",
       "    </tr>\n",
       "    <tr>\n",
       "      <th>34</th>\n",
       "      <td>CC</td>\n",
       "      <td>Soda Ash Manufacturing</td>\n",
       "      <td>Direct Emitter</td>\n",
       "    </tr>\n",
       "    <tr>\n",
       "      <th>35</th>\n",
       "      <td>DD</td>\n",
       "      <td>SF6 from Electrical Equipment</td>\n",
       "      <td>SF6 from Elec. Equip.</td>\n",
       "    </tr>\n",
       "    <tr>\n",
       "      <th>36</th>\n",
       "      <td>EE</td>\n",
       "      <td>Titanium Dioxide Production</td>\n",
       "      <td>Direct Emitter</td>\n",
       "    </tr>\n",
       "    <tr>\n",
       "      <th>37</th>\n",
       "      <td>FF</td>\n",
       "      <td>Underground Coal Mines</td>\n",
       "      <td>Direct Emitter</td>\n",
       "    </tr>\n",
       "    <tr>\n",
       "      <th>38</th>\n",
       "      <td>GG</td>\n",
       "      <td>Zinc Production</td>\n",
       "      <td>Direct Emitter</td>\n",
       "    </tr>\n",
       "    <tr>\n",
       "      <th>39</th>\n",
       "      <td>HH</td>\n",
       "      <td>Municipal Landfills</td>\n",
       "      <td>Direct Emitter</td>\n",
       "    </tr>\n",
       "    <tr>\n",
       "      <th>40</th>\n",
       "      <td>II</td>\n",
       "      <td>Industrial Wastewater Treatment</td>\n",
       "      <td>Direct Emitter</td>\n",
       "    </tr>\n",
       "    <tr>\n",
       "      <th>41</th>\n",
       "      <td>LL</td>\n",
       "      <td>Suppliers of Coal Based Liquids Fuels</td>\n",
       "      <td>Supplier</td>\n",
       "    </tr>\n",
       "    <tr>\n",
       "      <th>42</th>\n",
       "      <td>MM</td>\n",
       "      <td>Suppliers of Petroleum Products</td>\n",
       "      <td>Supplier</td>\n",
       "    </tr>\n",
       "    <tr>\n",
       "      <th>43</th>\n",
       "      <td>MM – REF</td>\n",
       "      <td>Petroleum Refinery (Producer)</td>\n",
       "      <td>Supplier</td>\n",
       "    </tr>\n",
       "    <tr>\n",
       "      <th>44</th>\n",
       "      <td>MM – IMP</td>\n",
       "      <td>Petroleum Product Importer</td>\n",
       "      <td>Supplier</td>\n",
       "    </tr>\n",
       "    <tr>\n",
       "      <th>45</th>\n",
       "      <td>MM – EXP</td>\n",
       "      <td>Petroleum Product Exporter</td>\n",
       "      <td>Supplier</td>\n",
       "    </tr>\n",
       "    <tr>\n",
       "      <th>46</th>\n",
       "      <td>NN</td>\n",
       "      <td>Natural Gas and Natural Gas Liquid Supply</td>\n",
       "      <td>Supplier</td>\n",
       "    </tr>\n",
       "    <tr>\n",
       "      <th>47</th>\n",
       "      <td>NN-FRAC</td>\n",
       "      <td>Natural Gas Liquids Fractionator</td>\n",
       "      <td>Supplier</td>\n",
       "    </tr>\n",
       "    <tr>\n",
       "      <th>48</th>\n",
       "      <td>NN-LDC</td>\n",
       "      <td>Natural Gas Local Distribution Company (supply)</td>\n",
       "      <td>Supplier</td>\n",
       "    </tr>\n",
       "    <tr>\n",
       "      <th>49</th>\n",
       "      <td>OO</td>\n",
       "      <td>Non-CO2 Industrial Gas Supply</td>\n",
       "      <td>Supplier</td>\n",
       "    </tr>\n",
       "    <tr>\n",
       "      <th>50</th>\n",
       "      <td>PP</td>\n",
       "      <td>Carbon Dioxide (CO2) Supply</td>\n",
       "      <td>Supplier</td>\n",
       "    </tr>\n",
       "    <tr>\n",
       "      <th>51</th>\n",
       "      <td>QQ</td>\n",
       "      <td>Import and Export of Equipment Containing Fluo...</td>\n",
       "      <td>Supplier</td>\n",
       "    </tr>\n",
       "    <tr>\n",
       "      <th>52</th>\n",
       "      <td>RR</td>\n",
       "      <td>Geologic Sequestration of Carbon Dioxide</td>\n",
       "      <td>CO2 Injection</td>\n",
       "    </tr>\n",
       "    <tr>\n",
       "      <th>53</th>\n",
       "      <td>SS</td>\n",
       "      <td>Manufacture of Electric Transmission and Distr...</td>\n",
       "      <td>Direct Emitter</td>\n",
       "    </tr>\n",
       "    <tr>\n",
       "      <th>54</th>\n",
       "      <td>TT</td>\n",
       "      <td>Industrial Waste Landfills</td>\n",
       "      <td>Direct Emitter</td>\n",
       "    </tr>\n",
       "    <tr>\n",
       "      <th>55</th>\n",
       "      <td>UU</td>\n",
       "      <td>Injection of Carbon Dioxide</td>\n",
       "      <td>CO2 Injection</td>\n",
       "    </tr>\n",
       "  </tbody>\n",
       "</table>\n",
       "</div>"
      ],
      "text/plain": [
       "   Subpart Letter                                   Name of industry  \\\n",
       "0               C                              Stationary Combustion   \n",
       "1               D                             Electricity Generation   \n",
       "2               E                             Adipic Acid Production   \n",
       "3               F                                Aluminum Production   \n",
       "4               G                              Ammonia Manufacturing   \n",
       "5               H                                  Cement Production   \n",
       "6               I                            Electronics Manufacture   \n",
       "7               K                              Ferroalloy Production   \n",
       "8               L                         Fluorinated GHG Production   \n",
       "9               N                                   Glass Production   \n",
       "10              O          HCFC–22 Production and HFC–23 Destruction   \n",
       "11              P                                Hydrogen Production   \n",
       "12              Q                          Iron and Steel Production   \n",
       "13              R                                    Lead Production   \n",
       "14              S                                    Lime Production   \n",
       "15              T                               Magnesium Production   \n",
       "16              U                    Miscellaneous Use of Carbonates   \n",
       "17              V                             Nitric Acid Production   \n",
       "18              W                  Petroleum and Natural Gas Systems   \n",
       "19        W-OFFSH  Petroleum and Natural Gas Systems – Offshore P...   \n",
       "20         W-ONSH  Petroleum and Natural Gas Systems – Onshore Pr...   \n",
       "21           W-GB  Petroleum and Nautral Gas Systems - Gathering ...   \n",
       "22         W-PROC  Petroleum and Natural Gas Systems – Natural Ga...   \n",
       "23         W-NGTC  Petroleum and Natural Gas Systems – Natural Ga...   \n",
       "24        W-TRANS  Petroleum and Natural Gas Systems – Transmissi...   \n",
       "25        W-UNSTG  Petroleum and Natural Gas Systems – Undergroun...   \n",
       "26       W-LNGSTG  Petroleum and Natural Gas Systems – Liquified ...   \n",
       "27        W-LNGIE  Petroleum and Natural Gas Systems – Liquified ...   \n",
       "28          W-LDC  Petroleum and Natural Gas Systems – Natural Ga...   \n",
       "29              X                           Petrochemical Production   \n",
       "30              Y                                 Petroleum Refining   \n",
       "31              Z                         Phosphoric Acid Production   \n",
       "32             AA                       Pulp and Paper Manufacturing   \n",
       "33             BB                         Silicon Carbide Production   \n",
       "34             CC                             Soda Ash Manufacturing   \n",
       "35             DD                      SF6 from Electrical Equipment   \n",
       "36             EE                        Titanium Dioxide Production   \n",
       "37             FF                             Underground Coal Mines   \n",
       "38             GG                                    Zinc Production   \n",
       "39             HH                                Municipal Landfills   \n",
       "40             II                    Industrial Wastewater Treatment   \n",
       "41             LL              Suppliers of Coal Based Liquids Fuels   \n",
       "42             MM                    Suppliers of Petroleum Products   \n",
       "43       MM – REF                      Petroleum Refinery (Producer)   \n",
       "44       MM – IMP                         Petroleum Product Importer   \n",
       "45       MM – EXP                         Petroleum Product Exporter   \n",
       "46             NN          Natural Gas and Natural Gas Liquid Supply   \n",
       "47        NN-FRAC                   Natural Gas Liquids Fractionator   \n",
       "48         NN-LDC    Natural Gas Local Distribution Company (supply)   \n",
       "49             OO                      Non-CO2 Industrial Gas Supply   \n",
       "50             PP                        Carbon Dioxide (CO2) Supply   \n",
       "51             QQ  Import and Export of Equipment Containing Fluo...   \n",
       "52             RR           Geologic Sequestration of Carbon Dioxide   \n",
       "53             SS  Manufacture of Electric Transmission and Distr...   \n",
       "54             TT                         Industrial Waste Landfills   \n",
       "55             UU                        Injection of Carbon Dioxide   \n",
       "\n",
       "                   Facility Type  \n",
       "0                 Direct Emitter  \n",
       "1                 Direct Emitter  \n",
       "2                 Direct Emitter  \n",
       "3                 Direct Emitter  \n",
       "4                 Direct Emitter  \n",
       "5                 Direct Emitter  \n",
       "6                 Direct Emitter  \n",
       "7                 Direct Emitter  \n",
       "8                 Direct Emitter  \n",
       "9                 Direct Emitter  \n",
       "10                Direct Emitter  \n",
       "11                Direct Emitter  \n",
       "12                Direct Emitter  \n",
       "13                Direct Emitter  \n",
       "14                Direct Emitter  \n",
       "15                Direct Emitter  \n",
       "16                Direct Emitter  \n",
       "17                Direct Emitter  \n",
       "18                Direct Emitter  \n",
       "19                Direct Emitter  \n",
       "20  Onshore Oil & Gas Production  \n",
       "21          Gathering & Boosting  \n",
       "22                Direct Emitter  \n",
       "23                Direct Emitter  \n",
       "24        Transmission Pipelines  \n",
       "25                Direct Emitter  \n",
       "26                Direct Emitter  \n",
       "27                Direct Emitter  \n",
       "28        LDC - Direct Emissions  \n",
       "29                Direct Emitter  \n",
       "30                Direct Emitter  \n",
       "31                Direct Emitter  \n",
       "32                Direct Emitter  \n",
       "33                Direct Emitter  \n",
       "34                Direct Emitter  \n",
       "35         SF6 from Elec. Equip.  \n",
       "36                Direct Emitter  \n",
       "37                Direct Emitter  \n",
       "38                Direct Emitter  \n",
       "39                Direct Emitter  \n",
       "40                Direct Emitter  \n",
       "41                      Supplier  \n",
       "42                      Supplier  \n",
       "43                      Supplier  \n",
       "44                      Supplier  \n",
       "45                      Supplier  \n",
       "46                      Supplier  \n",
       "47                      Supplier  \n",
       "48                      Supplier  \n",
       "49                      Supplier  \n",
       "50                      Supplier  \n",
       "51                      Supplier  \n",
       "52                 CO2 Injection  \n",
       "53                Direct Emitter  \n",
       "54                Direct Emitter  \n",
       "55                 CO2 Injection  "
      ]
     },
     "execution_count": 4,
     "metadata": {},
     "output_type": "execute_result"
    }
   ],
   "source": [
    "industry = pd.read_csv('Industry.csv')\n",
    "industry"
   ]
  },
  {
   "cell_type": "code",
   "execution_count": 29,
   "metadata": {},
   "outputs": [
    {
     "data": {
      "text/html": [
       "<div>\n",
       "<style scoped>\n",
       "    .dataframe tbody tr th:only-of-type {\n",
       "        vertical-align: middle;\n",
       "    }\n",
       "\n",
       "    .dataframe tbody tr th {\n",
       "        vertical-align: top;\n",
       "    }\n",
       "\n",
       "    .dataframe thead th {\n",
       "        text-align: right;\n",
       "    }\n",
       "</style>\n",
       "<table border=\"1\" class=\"dataframe\">\n",
       "  <thead>\n",
       "    <tr style=\"text-align: right;\">\n",
       "      <th></th>\n",
       "      <th>Facility.Id</th>\n",
       "      <th>FRS.Id</th>\n",
       "      <th>Facility.Name</th>\n",
       "      <th>City</th>\n",
       "      <th>State</th>\n",
       "      <th>Primary.NAICS.Code</th>\n",
       "      <th>Year</th>\n",
       "      <th>Industry.Type</th>\n",
       "      <th>Sector</th>\n",
       "      <th>Unit.Name</th>\n",
       "      <th>Unit.Type</th>\n",
       "      <th>Method</th>\n",
       "      <th>Max.Heat</th>\n",
       "      <th>CO2.emissions.non.biogenic.</th>\n",
       "      <th>Methane.emissions</th>\n",
       "      <th>Nitrous.Oxide.emissions</th>\n",
       "      <th>CO2.emissions.biogenic.</th>\n",
       "    </tr>\n",
       "  </thead>\n",
       "  <tbody>\n",
       "    <tr>\n",
       "      <th>0</th>\n",
       "      <td>1000112</td>\n",
       "      <td>1.100000e+11</td>\n",
       "      <td>23rd and 3rd</td>\n",
       "      <td>Brooklyn</td>\n",
       "      <td>NY</td>\n",
       "      <td>221112</td>\n",
       "      <td>2022</td>\n",
       "      <td>C,D</td>\n",
       "      <td>Power Plants</td>\n",
       "      <td>Heatec1</td>\n",
       "      <td>PRH (Process Heater)</td>\n",
       "      <td>Tier1/2/3</td>\n",
       "      <td>7.4</td>\n",
       "      <td>176.7</td>\n",
       "      <td>0.00</td>\n",
       "      <td>0.000</td>\n",
       "      <td>0.0</td>\n",
       "    </tr>\n",
       "    <tr>\n",
       "      <th>1</th>\n",
       "      <td>1000112</td>\n",
       "      <td>1.100000e+11</td>\n",
       "      <td>23rd and 3rd</td>\n",
       "      <td>Brooklyn</td>\n",
       "      <td>NY</td>\n",
       "      <td>221112</td>\n",
       "      <td>2022</td>\n",
       "      <td>C,D</td>\n",
       "      <td>Power Plants</td>\n",
       "      <td>Heatec2</td>\n",
       "      <td>PRH (Process Heater)</td>\n",
       "      <td>Tier1/2/3</td>\n",
       "      <td>7.4</td>\n",
       "      <td>154.7</td>\n",
       "      <td>0.00</td>\n",
       "      <td>0.000</td>\n",
       "      <td>0.0</td>\n",
       "    </tr>\n",
       "    <tr>\n",
       "      <th>2</th>\n",
       "      <td>1000112</td>\n",
       "      <td>1.100000e+11</td>\n",
       "      <td>23rd and 3rd</td>\n",
       "      <td>Brooklyn</td>\n",
       "      <td>NY</td>\n",
       "      <td>221112</td>\n",
       "      <td>2021</td>\n",
       "      <td>C,D</td>\n",
       "      <td>Power Plants</td>\n",
       "      <td>Heatec1</td>\n",
       "      <td>PRH (Process Heater)</td>\n",
       "      <td>Tier1/2/3</td>\n",
       "      <td>7.4</td>\n",
       "      <td>84.4</td>\n",
       "      <td>0.00</td>\n",
       "      <td>0.000</td>\n",
       "      <td>0.0</td>\n",
       "    </tr>\n",
       "    <tr>\n",
       "      <th>3</th>\n",
       "      <td>1000112</td>\n",
       "      <td>1.100000e+11</td>\n",
       "      <td>23rd and 3rd</td>\n",
       "      <td>Brooklyn</td>\n",
       "      <td>NY</td>\n",
       "      <td>221112</td>\n",
       "      <td>2021</td>\n",
       "      <td>C,D</td>\n",
       "      <td>Power Plants</td>\n",
       "      <td>Heatec2</td>\n",
       "      <td>PRH (Process Heater)</td>\n",
       "      <td>Tier1/2/3</td>\n",
       "      <td>7.4</td>\n",
       "      <td>78.9</td>\n",
       "      <td>0.00</td>\n",
       "      <td>0.000</td>\n",
       "      <td>0.0</td>\n",
       "    </tr>\n",
       "    <tr>\n",
       "      <th>4</th>\n",
       "      <td>1000112</td>\n",
       "      <td>1.100000e+11</td>\n",
       "      <td>23rd and 3rd</td>\n",
       "      <td>Brooklyn</td>\n",
       "      <td>NY</td>\n",
       "      <td>221112</td>\n",
       "      <td>2020</td>\n",
       "      <td>C,D</td>\n",
       "      <td>Power Plants</td>\n",
       "      <td>Heatec1</td>\n",
       "      <td>PRH (Process Heater)</td>\n",
       "      <td>Tier1/2/3</td>\n",
       "      <td>7.4</td>\n",
       "      <td>90.7</td>\n",
       "      <td>0.00</td>\n",
       "      <td>0.000</td>\n",
       "      <td>0.0</td>\n",
       "    </tr>\n",
       "    <tr>\n",
       "      <th>...</th>\n",
       "      <td>...</td>\n",
       "      <td>...</td>\n",
       "      <td>...</td>\n",
       "      <td>...</td>\n",
       "      <td>...</td>\n",
       "      <td>...</td>\n",
       "      <td>...</td>\n",
       "      <td>...</td>\n",
       "      <td>...</td>\n",
       "      <td>...</td>\n",
       "      <td>...</td>\n",
       "      <td>...</td>\n",
       "      <td>...</td>\n",
       "      <td>...</td>\n",
       "      <td>...</td>\n",
       "      <td>...</td>\n",
       "      <td>...</td>\n",
       "    </tr>\n",
       "    <tr>\n",
       "      <th>174523</th>\n",
       "      <td>1003318</td>\n",
       "      <td>1.100000e+11</td>\n",
       "      <td>ZYBACH CRYOGENIC PLANT</td>\n",
       "      <td>Briscoe</td>\n",
       "      <td>TX</td>\n",
       "      <td>211111</td>\n",
       "      <td>2015</td>\n",
       "      <td>C,W</td>\n",
       "      <td>Petroleum and Natural Gas Systems</td>\n",
       "      <td>GP-Zybach</td>\n",
       "      <td>OCS (Other combustion source)</td>\n",
       "      <td>Tier1/2/3</td>\n",
       "      <td>32.0</td>\n",
       "      <td>33757.8</td>\n",
       "      <td>16.00</td>\n",
       "      <td>19.072</td>\n",
       "      <td>0.0</td>\n",
       "    </tr>\n",
       "    <tr>\n",
       "      <th>174524</th>\n",
       "      <td>1003318</td>\n",
       "      <td>1.100000e+11</td>\n",
       "      <td>ZYBACH CRYOGENIC PLANT</td>\n",
       "      <td>Briscoe</td>\n",
       "      <td>TX</td>\n",
       "      <td>211111</td>\n",
       "      <td>2014</td>\n",
       "      <td>C,W</td>\n",
       "      <td>Petroleum and Natural Gas Systems</td>\n",
       "      <td>GP-Zybach</td>\n",
       "      <td>OCS (Other combustion source)</td>\n",
       "      <td>Tier1/2/3</td>\n",
       "      <td>32.0</td>\n",
       "      <td>32901.2</td>\n",
       "      <td>15.50</td>\n",
       "      <td>18.476</td>\n",
       "      <td>0.0</td>\n",
       "    </tr>\n",
       "    <tr>\n",
       "      <th>174525</th>\n",
       "      <td>1003318</td>\n",
       "      <td>1.100000e+11</td>\n",
       "      <td>ZYBACH CRYOGENIC PLANT</td>\n",
       "      <td>Briscoe</td>\n",
       "      <td>TX</td>\n",
       "      <td>211111</td>\n",
       "      <td>2013</td>\n",
       "      <td>C,W</td>\n",
       "      <td>Petroleum and Natural Gas Systems</td>\n",
       "      <td>GP-Zybach</td>\n",
       "      <td>OCS (Other combustion source)</td>\n",
       "      <td>Tier1/2/3</td>\n",
       "      <td>32.0</td>\n",
       "      <td>42700.7</td>\n",
       "      <td>20.25</td>\n",
       "      <td>24.138</td>\n",
       "      <td>0.0</td>\n",
       "    </tr>\n",
       "    <tr>\n",
       "      <th>174526</th>\n",
       "      <td>1003318</td>\n",
       "      <td>1.100000e+11</td>\n",
       "      <td>ZYBACH CRYOGENIC PLANT</td>\n",
       "      <td>Briscoe</td>\n",
       "      <td>TX</td>\n",
       "      <td>211111</td>\n",
       "      <td>2012</td>\n",
       "      <td>C,W</td>\n",
       "      <td>Petroleum and Natural Gas Systems</td>\n",
       "      <td>GP-Zybach</td>\n",
       "      <td>OCS (Other combustion source)</td>\n",
       "      <td>Tier1/2/3</td>\n",
       "      <td>32.0</td>\n",
       "      <td>46840.7</td>\n",
       "      <td>22.00</td>\n",
       "      <td>26.224</td>\n",
       "      <td>0.0</td>\n",
       "    </tr>\n",
       "    <tr>\n",
       "      <th>174527</th>\n",
       "      <td>1003318</td>\n",
       "      <td>1.100000e+11</td>\n",
       "      <td>ZYBACH CRYOGENIC PLANT</td>\n",
       "      <td>Briscoe</td>\n",
       "      <td>TX</td>\n",
       "      <td>211111</td>\n",
       "      <td>2011</td>\n",
       "      <td>C,W</td>\n",
       "      <td>Petroleum and Natural Gas Systems</td>\n",
       "      <td>GP-Zybach</td>\n",
       "      <td>OCS (Other combustion source)</td>\n",
       "      <td>Tier1/2/3</td>\n",
       "      <td>32.0</td>\n",
       "      <td>53482.2</td>\n",
       "      <td>25.25</td>\n",
       "      <td>30.098</td>\n",
       "      <td>0.0</td>\n",
       "    </tr>\n",
       "  </tbody>\n",
       "</table>\n",
       "<p>174528 rows × 17 columns</p>\n",
       "</div>"
      ],
      "text/plain": [
       "        Facility.Id        FRS.Id           Facility.Name      City State  \\\n",
       "0           1000112  1.100000e+11            23rd and 3rd  Brooklyn    NY   \n",
       "1           1000112  1.100000e+11            23rd and 3rd  Brooklyn    NY   \n",
       "2           1000112  1.100000e+11            23rd and 3rd  Brooklyn    NY   \n",
       "3           1000112  1.100000e+11            23rd and 3rd  Brooklyn    NY   \n",
       "4           1000112  1.100000e+11            23rd and 3rd  Brooklyn    NY   \n",
       "...             ...           ...                     ...       ...   ...   \n",
       "174523      1003318  1.100000e+11  ZYBACH CRYOGENIC PLANT   Briscoe    TX   \n",
       "174524      1003318  1.100000e+11  ZYBACH CRYOGENIC PLANT   Briscoe    TX   \n",
       "174525      1003318  1.100000e+11  ZYBACH CRYOGENIC PLANT   Briscoe    TX   \n",
       "174526      1003318  1.100000e+11  ZYBACH CRYOGENIC PLANT   Briscoe    TX   \n",
       "174527      1003318  1.100000e+11  ZYBACH CRYOGENIC PLANT   Briscoe    TX   \n",
       "\n",
       "        Primary.NAICS.Code  Year Industry.Type  \\\n",
       "0                   221112  2022           C,D   \n",
       "1                   221112  2022           C,D   \n",
       "2                   221112  2021           C,D   \n",
       "3                   221112  2021           C,D   \n",
       "4                   221112  2020           C,D   \n",
       "...                    ...   ...           ...   \n",
       "174523              211111  2015           C,W   \n",
       "174524              211111  2014           C,W   \n",
       "174525              211111  2013           C,W   \n",
       "174526              211111  2012           C,W   \n",
       "174527              211111  2011           C,W   \n",
       "\n",
       "                                   Sector  Unit.Name  \\\n",
       "0                            Power Plants    Heatec1   \n",
       "1                            Power Plants    Heatec2   \n",
       "2                            Power Plants    Heatec1   \n",
       "3                            Power Plants    Heatec2   \n",
       "4                            Power Plants    Heatec1   \n",
       "...                                   ...        ...   \n",
       "174523  Petroleum and Natural Gas Systems  GP-Zybach   \n",
       "174524  Petroleum and Natural Gas Systems  GP-Zybach   \n",
       "174525  Petroleum and Natural Gas Systems  GP-Zybach   \n",
       "174526  Petroleum and Natural Gas Systems  GP-Zybach   \n",
       "174527  Petroleum and Natural Gas Systems  GP-Zybach   \n",
       "\n",
       "                            Unit.Type     Method  Max.Heat  \\\n",
       "0                PRH (Process Heater)  Tier1/2/3       7.4   \n",
       "1                PRH (Process Heater)  Tier1/2/3       7.4   \n",
       "2                PRH (Process Heater)  Tier1/2/3       7.4   \n",
       "3                PRH (Process Heater)  Tier1/2/3       7.4   \n",
       "4                PRH (Process Heater)  Tier1/2/3       7.4   \n",
       "...                               ...        ...       ...   \n",
       "174523  OCS (Other combustion source)  Tier1/2/3      32.0   \n",
       "174524  OCS (Other combustion source)  Tier1/2/3      32.0   \n",
       "174525  OCS (Other combustion source)  Tier1/2/3      32.0   \n",
       "174526  OCS (Other combustion source)  Tier1/2/3      32.0   \n",
       "174527  OCS (Other combustion source)  Tier1/2/3      32.0   \n",
       "\n",
       "        CO2.emissions.non.biogenic.  Methane.emissions  \\\n",
       "0                             176.7               0.00   \n",
       "1                             154.7               0.00   \n",
       "2                              84.4               0.00   \n",
       "3                              78.9               0.00   \n",
       "4                              90.7               0.00   \n",
       "...                             ...                ...   \n",
       "174523                      33757.8              16.00   \n",
       "174524                      32901.2              15.50   \n",
       "174525                      42700.7              20.25   \n",
       "174526                      46840.7              22.00   \n",
       "174527                      53482.2              25.25   \n",
       "\n",
       "        Nitrous.Oxide.emissions  CO2.emissions.biogenic.  \n",
       "0                         0.000                      0.0  \n",
       "1                         0.000                      0.0  \n",
       "2                         0.000                      0.0  \n",
       "3                         0.000                      0.0  \n",
       "4                         0.000                      0.0  \n",
       "...                         ...                      ...  \n",
       "174523                   19.072                      0.0  \n",
       "174524                   18.476                      0.0  \n",
       "174525                   24.138                      0.0  \n",
       "174526                   26.224                      0.0  \n",
       "174527                   30.098                      0.0  \n",
       "\n",
       "[174528 rows x 17 columns]"
      ]
     },
     "execution_count": 29,
     "metadata": {},
     "output_type": "execute_result"
    }
   ],
   "source": [
    "unit = pd.read_csv('Unit.csv')\n",
    "unit"
   ]
  },
  {
   "cell_type": "code",
   "execution_count": 14,
   "metadata": {},
   "outputs": [
    {
     "data": {
      "text/plain": [
       "<Axes: xlabel='Year'>"
      ]
     },
     "execution_count": 14,
     "metadata": {},
     "output_type": "execute_result"
    },
    {
     "data": {
      "image/png": "[encoded data removed]",
      "text/plain": [
       "<Figure size 640x480 with 1 Axes>"
      ]
     },
     "metadata": {},
     "output_type": "display_data"
    }
   ],
   "source": [
    "fuel.groupby('Year')['Methane.emissions'].mean().plot(kind='bar')"
   ]
  },
  {
   "cell_type": "code",
   "execution_count": 15,
   "metadata": {},
   "outputs": [
    {
     "data": {
      "text/plain": [
       "<Axes: xlabel='Year'>"
      ]
     },
     "execution_count": 15,
     "metadata": {},
     "output_type": "execute_result"
    },
    {
     "data": {
      "image/png": "[encoded data removed]",
      "text/plain": [
       "<Figure size 640x480 with 1 Axes>"
      ]
     },
     "metadata": {},
     "output_type": "display_data"
    }
   ],
   "source": [
    "fuel.groupby('Year')['Nitrous.Oxide.emissions'].mean().plot(kind='bar')"
   ]
  },
  {
   "cell_type": "code",
   "execution_count": 30,
   "metadata": {},
   "outputs": [
    {
     "data": {
      "text/plain": [
       "<Axes: xlabel='Year'>"
      ]
     },
     "execution_count": 30,
     "metadata": {},
     "output_type": "execute_result"
    },
    {
     "data": {
      "image/png": "[encoded data removed]",
      "text/plain": [
       "<Figure size 640x480 with 1 Axes>"
      ]
     },
     "metadata": {},
     "output_type": "display_data"
    }
   ],
   "source": [
    "unit.groupby('Year')['Methane.emissions'].mean().plot(kind='bar')"
   ]
  },
  {
   "cell_type": "code",
   "execution_count": 31,
   "metadata": {},
   "outputs": [
    {
     "data": {
      "text/plain": [
       "Index(['Facility.Id', 'FRS.Id', 'Facility.Name', 'City', 'State',\n",
       "       'Primary.NAICS.Code', 'Year', 'Industry.Type', 'Sector', 'Unit.Name',\n",
       "       'Unit.Type', 'Method', 'Max.Heat', 'CO2.emissions.non.biogenic.',\n",
       "       'Methane.emissions', 'Nitrous.Oxide.emissions',\n",
       "       'CO2.emissions.biogenic.'],\n",
       "      dtype='object')"
      ]
     },
     "execution_count": 31,
     "metadata": {},
     "output_type": "execute_result"
    }
   ],
   "source": [
    "unit.columns"
   ]
  },
  {
   "cell_type": "code",
   "execution_count": 39,
   "metadata": {},
   "outputs": [
    {
     "data": {
      "text/plain": [
       "<Axes: xlabel='Year'>"
      ]
     },
     "execution_count": 39,
     "metadata": {},
     "output_type": "execute_result"
    },
    {
     "data": {
      "image/png": "[encoded data removed]",
      "text/plain": [
       "<Figure size 640x480 with 1 Axes>"
      ]
     },
     "metadata": {},
     "output_type": "display_data"
    }
   ],
   "source": [
    "unit.groupby('Year')['CO2.emissions.non.biogenic.'].mean().plot(kind='bar')"
   ]
  },
  {
   "cell_type": "code",
   "execution_count": 33,
   "metadata": {},
   "outputs": [
    {
     "data": {
      "text/plain": [
       "<Axes: xlabel='Year'>"
      ]
     },
     "execution_count": 33,
     "metadata": {},
     "output_type": "execute_result"
    },
    {
     "data": {
      "image/png": "[encoded data removed]",
      "text/plain": [
       "<Figure size 640x480 with 1 Axes>"
      ]
     },
     "metadata": {},
     "output_type": "display_data"
    }
   ],
   "source": [
    "unit.groupby('Year')['Nitrous.Oxide.emissions'].mean().plot(kind='bar')"
   ]
  },
  {
   "cell_type": "code",
   "execution_count": 34,
   "metadata": {},
   "outputs": [
    {
     "data": {
      "text/plain": [
       "Sector\n",
       "Petroleum and Natural Gas Systems                                                                                29416\n",
       "Other                                                                                                            27267\n",
       "Power Plants                                                                                                     26567\n",
       "Waste                                                                                                            24995\n",
       "Chemicals                                                                                                        10485\n",
       "                                                                                                                 ...  \n",
       "Chemicals, Power Plants, Refineries, Suppliers of CO2                                                                4\n",
       "Natural Gas and Natural Gas Liquids Suppliers, Other                                                                 4\n",
       "Petroleum Product Suppliers, Pulp and Paper, Waste                                                                   4\n",
       "Natural Gas and Natural Gas Liquids Suppliers, Petroleum Product Suppliers, Petroleum and Natural Gas Systems        2\n",
       "Injection of CO2, Other, Suppliers of CO2                                                                            1\n",
       "Name: count, Length: 69, dtype: int64"
      ]
     },
     "execution_count": 34,
     "metadata": {},
     "output_type": "execute_result"
    }
   ],
   "source": [
    "unit.Sector.value_counts()"
   ]
  },
  {
   "cell_type": "code",
   "execution_count": 49,
   "metadata": {},
   "outputs": [
    {
     "data": {
      "text/plain": [
       "array(['Power Plants', 'Petroleum and Natural Gas Systems', 'Waste',\n",
       "       'Minerals', 'Other', 'Chemicals, Industrial Gas Suppliers',\n",
       "       'Chemicals, Industrial Gas Suppliers, Minerals', 'Pulp and Paper',\n",
       "       'Chemicals', 'Metals', 'Other, Waste', 'Other, Suppliers of CO2',\n",
       "       'Other, Suppliers of CO2, Waste', 'Chemicals, Suppliers of CO2',\n",
       "       'Natural Gas and Natural Gas Liquids Suppliers, Petroleum and Natural Gas Systems',\n",
       "       'Power Plants, Suppliers of CO2', 'Chemicals, Waste',\n",
       "       'Pulp and Paper, Waste', 'Metals, Waste',\n",
       "       'Petroleum and Natural Gas Systems, Suppliers of CO2',\n",
       "       'Metals, Power Plants', 'Refineries',\n",
       "       'Chemicals, Petroleum Product Suppliers, Refineries',\n",
       "       'Chemicals, Refineries', 'Petroleum Product Suppliers, Refineries',\n",
       "       'Import and Export of Equipment Containing Fluorintaed GHGs, Other',\n",
       "       'Minerals, Waste', 'Other, Power Plants', 'Power Plants, Waste',\n",
       "       'Injection of CO2, Other, Suppliers of CO2, Waste',\n",
       "       'Injection of CO2, Petroleum and Natural Gas Systems, Suppliers of CO2',\n",
       "       'Petroleum Product Suppliers, Petroleum and Natural Gas Systems',\n",
       "       'Natural Gas and Natural Gas Liquids Suppliers, Petroleum Product Suppliers, Petroleum and Natural Gas Systems',\n",
       "       'Petroleum Product Suppliers, Refineries, Waste',\n",
       "       'Petroleum Product Suppliers, Power Plants, Refineries',\n",
       "       'Power Plants, Refineries',\n",
       "       'Pulp and Paper, Suppliers of CO2, Waste',\n",
       "       'Pulp and Paper, Suppliers of CO2',\n",
       "       'Chemicals, Petroleum Product Suppliers, Refineries, Waste',\n",
       "       'Chemicals, Petroleum Product Suppliers, Refineries, Suppliers of CO2',\n",
       "       'Chemicals, Other, Petroleum Product Suppliers, Power Plants, Refineries',\n",
       "       'Chemicals, Petroleum Product Suppliers, Power Plants, Refineries',\n",
       "       'Injection of CO2, Natural Gas and Natural Gas Liquids Suppliers, Petroleum and Natural Gas Systems, Suppliers of CO2',\n",
       "       'Petroleum and Natural Gas Systems, Power Plants',\n",
       "       'Natural Gas and Natural Gas Liquids Suppliers, Petroleum and Natural Gas Systems, Power Plants',\n",
       "       'Chemicals, Petroleum Product Suppliers',\n",
       "       'Chemicals, Industrial Gas Suppliers, Waste',\n",
       "       'Chemicals, Refineries, Waste',\n",
       "       'Chemicals, Refineries, Suppliers of CO2', 'Refineries, Waste',\n",
       "       nan, 'Natural Gas and Natural Gas Liquids Suppliers, Power Plants',\n",
       "       'Metals, Minerals',\n",
       "       'Petroleum Product Suppliers, Power Plants, Refineries, Suppliers of CO2',\n",
       "       'Chemicals, Petroleum Product Suppliers, Power Plants, Refineries, Suppliers of CO2',\n",
       "       'Chemicals, Power Plants, Refineries, Suppliers of CO2',\n",
       "       'Chemicals, Other, Petroleum and Natural Gas Systems, Waste',\n",
       "       'Chemicals, Power Plants', 'Chemicals, Power Plants, Waste',\n",
       "       'Injection of CO2, Natural Gas and Natural Gas Liquids Suppliers, Petroleum and Natural Gas Systems',\n",
       "       'Other, Petroleum Product Suppliers, Power Plants, Refineries',\n",
       "       'Chemicals, Coal-based Liquid Fuel Supply, Suppliers of CO2',\n",
       "       'Injection of CO2, Petroleum and Natural Gas Systems',\n",
       "       'Injection of CO2, Power Plants, Suppliers of CO2',\n",
       "       'Injection of CO2, Other, Suppliers of CO2',\n",
       "       'Industrial Gas Suppliers, Other',\n",
       "       'Chemicals, Petroleum and Natural Gas Systems, Refineries',\n",
       "       'Natural Gas and Natural Gas Liquids Suppliers, Other',\n",
       "       'Petroleum Product Suppliers, Pulp and Paper, Waste',\n",
       "       'Chemicals, Petroleum Product Suppliers, Refineries, Suppliers of CO2, Waste'],\n",
       "      dtype=object)"
      ]
     },
     "execution_count": 49,
     "metadata": {},
     "output_type": "execute_result"
    }
   ],
   "source": [
    "unit.Sector.unique()"
   ]
  },
  {
   "cell_type": "code",
   "execution_count": 48,
   "metadata": {},
   "outputs": [
    {
     "data": {
      "text/plain": [
       "<Axes: xlabel='Sector'>"
      ]
     },
     "execution_count": 48,
     "metadata": {},
     "output_type": "execute_result"
    },
    {
     "data": {
      "image/png": "[encoded data removed]",
      "text/plain": [
       "<Figure size 640x480 with 1 Axes>"
      ]
     },
     "metadata": {},
     "output_type": "display_data"
    }
   ],
   "source": [
    "unit.groupby('Sector')['CO2.emissions.non.biogenic.'].mean().nlargest(10).plot(kind='bar')"
   ]
  },
  {
   "cell_type": "code",
   "execution_count": 40,
   "metadata": {},
   "outputs": [
    {
     "data": {
      "text/plain": [
       "numpy.int64"
      ]
     },
     "execution_count": 40,
     "metadata": {},
     "output_type": "execute_result"
    }
   ],
   "source": [
    "type(unit['Year'].loc[1])"
   ]
  },
  {
   "cell_type": "code",
   "execution_count": null,
   "metadata": {},
   "outputs": [],
   "source": []
  }
 ],
 "metadata": {
  "kernelspec": {
   "display_name": "Python 3",
   "language": "python",
   "name": "python3"
  },
  "language_info": {
   "codemirror_mode": {
    "name": "ipython",
    "version": 3
   },
   "file_extension": ".py",
   "mimetype": "text/x-python",
   "name": "python",
   "nbconvert_exporter": "python",
   "pygments_lexer": "ipython3",
   "version": "3.11.5"
  }
 },
 "nbformat": 4,
 "nbformat_minor": 2
}
